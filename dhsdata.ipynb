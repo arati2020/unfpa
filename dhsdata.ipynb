{
 "cells": [
  {
   "cell_type": "code",
   "execution_count": 1,
   "metadata": {},
   "outputs": [],
   "source": [
    "import pandas as pd\n",
    "import numpy as np\n",
    "from datetime import date\n",
    "import os\n",
    "import shutil"
   ]
  },
  {
   "cell_type": "code",
   "execution_count": 2,
   "metadata": {},
   "outputs": [],
   "source": [
    "import matplotlib.pyplot as plt \n",
    "plt.style.use('seaborn')"
   ]
  },
  {
   "cell_type": "code",
   "execution_count": 3,
   "metadata": {},
   "outputs": [],
   "source": [
    "from IPython.core.interactiveshell import InteractiveShell\n",
    "InteractiveShell.ast_node_interactivity = \"all\"\n",
    "\n",
    "pd.set_option('display.max_columns', 500)\n",
    "pd.set_option('display.max_rows', 500)\n",
    "pd.set_option('display.max_seq_items',500)\n",
    "pd.set_option('display.max_colwidth',500)"
   ]
  },
  {
   "cell_type": "code",
   "execution_count": null,
   "metadata": {},
   "outputs": [],
   "source": [
    "os.chdir(r\"C:\\users\\arati\\Downloads\\UNFPA\")\n",
    "\n",
    "df = pd.read_csv('dhsallyears.csv',\\\n",
    "                 header=0, \\\n",
    "                )"
   ]
  },
  {
   "cell_type": "code",
   "execution_count": 14,
   "metadata": {},
   "outputs": [
    {
     "data": {
      "text/plain": [
       "(296, 5)"
      ]
     },
     "execution_count": 14,
     "metadata": {},
     "output_type": "execute_result"
    },
    {
     "data": {
      "text/plain": [
       "Country                                                           string\n",
       "Survey                                                            string\n",
       "Current use of any modern method of contraception (all women)    float64\n",
       "Unmet need for family planning                                   float64\n",
       "Unmet need for modern methods                                    float64\n",
       "dtype: object"
      ]
     },
     "execution_count": 14,
     "metadata": {},
     "output_type": "execute_result"
    }
   ],
   "source": [
    "df.shape\n",
    "df.dtypes"
   ]
  },
  {
   "cell_type": "code",
   "execution_count": 13,
   "metadata": {},
   "outputs": [],
   "source": [
    "df.Country=df.Country.astype(\"string\")\n",
    "df.Survey=df.Survey.astype(\"string\")"
   ]
  },
  {
   "cell_type": "code",
   "execution_count": 17,
   "metadata": {},
   "outputs": [
    {
     "data": {
      "text/plain": [
       "0       2015 DHS\n",
       "1    2017-18 DHS\n",
       "2    2008-09 DHS\n",
       "3    2015-16 DHS\n",
       "4    2015-16 DHS\n",
       "Name: Survey, dtype: string"
      ]
     },
     "execution_count": 17,
     "metadata": {},
     "output_type": "execute_result"
    }
   ],
   "source": [
    "df.Survey.head()"
   ]
  },
  {
   "cell_type": "code",
   "execution_count": 20,
   "metadata": {},
   "outputs": [],
   "source": [
    "df.Survey = df.Survey.str.slice(stop=4)"
   ]
  },
  {
   "cell_type": "code",
   "execution_count": 21,
   "metadata": {},
   "outputs": [
    {
     "data": {
      "text/html": [
       "<div>\n",
       "<style scoped>\n",
       "    .dataframe tbody tr th:only-of-type {\n",
       "        vertical-align: middle;\n",
       "    }\n",
       "\n",
       "    .dataframe tbody tr th {\n",
       "        vertical-align: top;\n",
       "    }\n",
       "\n",
       "    .dataframe thead th {\n",
       "        text-align: right;\n",
       "    }\n",
       "</style>\n",
       "<table border=\"1\" class=\"dataframe\">\n",
       "  <thead>\n",
       "    <tr style=\"text-align: right;\">\n",
       "      <th></th>\n",
       "      <th>Country</th>\n",
       "      <th>Survey</th>\n",
       "      <th>Current use of any modern method of contraception (all women)</th>\n",
       "      <th>Unmet need for family planning</th>\n",
       "      <th>Unmet need for modern methods</th>\n",
       "    </tr>\n",
       "  </thead>\n",
       "  <tbody>\n",
       "    <tr>\n",
       "      <th>0</th>\n",
       "      <td>Afghanistan</td>\n",
       "      <td>2015</td>\n",
       "      <td>NaN</td>\n",
       "      <td>24.5</td>\n",
       "      <td>27.2</td>\n",
       "    </tr>\n",
       "    <tr>\n",
       "      <th>1</th>\n",
       "      <td>Albania</td>\n",
       "      <td>2017</td>\n",
       "      <td>2.8</td>\n",
       "      <td>15.2</td>\n",
       "      <td>57.5</td>\n",
       "    </tr>\n",
       "    <tr>\n",
       "      <th>2</th>\n",
       "      <td>Albania</td>\n",
       "      <td>2008</td>\n",
       "      <td>7.9</td>\n",
       "      <td>12.9</td>\n",
       "      <td>71.6</td>\n",
       "    </tr>\n",
       "    <tr>\n",
       "      <th>3</th>\n",
       "      <td>Angola</td>\n",
       "      <td>2015</td>\n",
       "      <td>12.5</td>\n",
       "      <td>38.0</td>\n",
       "      <td>39.1</td>\n",
       "    </tr>\n",
       "    <tr>\n",
       "      <th>4</th>\n",
       "      <td>Armenia</td>\n",
       "      <td>2015</td>\n",
       "      <td>18.1</td>\n",
       "      <td>12.5</td>\n",
       "      <td>41.7</td>\n",
       "    </tr>\n",
       "  </tbody>\n",
       "</table>\n",
       "</div>"
      ],
      "text/plain": [
       "       Country Survey  \\\n",
       "0  Afghanistan   2015   \n",
       "1      Albania   2017   \n",
       "2      Albania   2008   \n",
       "3       Angola   2015   \n",
       "4      Armenia   2015   \n",
       "\n",
       "   Current use of any modern method of contraception (all women)  \\\n",
       "0                                                            NaN   \n",
       "1                                                            2.8   \n",
       "2                                                            7.9   \n",
       "3                                                           12.5   \n",
       "4                                                           18.1   \n",
       "\n",
       "   Unmet need for family planning  Unmet need for modern methods  \n",
       "0                            24.5                           27.2  \n",
       "1                            15.2                           57.5  \n",
       "2                            12.9                           71.6  \n",
       "3                            38.0                           39.1  \n",
       "4                            12.5                           41.7  "
      ]
     },
     "execution_count": 21,
     "metadata": {},
     "output_type": "execute_result"
    }
   ],
   "source": [
    "df.head()"
   ]
  },
  {
   "cell_type": "code",
   "execution_count": 24,
   "metadata": {},
   "outputs": [],
   "source": [
    "df=df.sort_values(by=\"Survey\")\n",
    "dfrecent= df.drop_duplicates('Country', keep='last')"
   ]
  },
  {
   "cell_type": "code",
   "execution_count": 27,
   "metadata": {},
   "outputs": [
    {
     "data": {
      "text/html": [
       "<div>\n",
       "<style scoped>\n",
       "    .dataframe tbody tr th:only-of-type {\n",
       "        vertical-align: middle;\n",
       "    }\n",
       "\n",
       "    .dataframe tbody tr th {\n",
       "        vertical-align: top;\n",
       "    }\n",
       "\n",
       "    .dataframe thead th {\n",
       "        text-align: right;\n",
       "    }\n",
       "</style>\n",
       "<table border=\"1\" class=\"dataframe\">\n",
       "  <thead>\n",
       "    <tr style=\"text-align: right;\">\n",
       "      <th></th>\n",
       "      <th>Country</th>\n",
       "      <th>Survey</th>\n",
       "      <th>Current use of any modern method of contraception (all women)</th>\n",
       "      <th>Unmet need for family planning</th>\n",
       "      <th>Unmet need for modern methods</th>\n",
       "    </tr>\n",
       "  </thead>\n",
       "  <tbody>\n",
       "    <tr>\n",
       "      <th>0</th>\n",
       "      <td>Afghanistan</td>\n",
       "      <td>2015</td>\n",
       "      <td>NaN</td>\n",
       "      <td>24.5</td>\n",
       "      <td>27.2</td>\n",
       "    </tr>\n",
       "    <tr>\n",
       "      <th>1</th>\n",
       "      <td>Albania</td>\n",
       "      <td>2017</td>\n",
       "      <td>2.8</td>\n",
       "      <td>15.2</td>\n",
       "      <td>57.5</td>\n",
       "    </tr>\n",
       "    <tr>\n",
       "      <th>3</th>\n",
       "      <td>Angola</td>\n",
       "      <td>2015</td>\n",
       "      <td>12.5</td>\n",
       "      <td>38.0</td>\n",
       "      <td>39.1</td>\n",
       "    </tr>\n",
       "    <tr>\n",
       "      <th>4</th>\n",
       "      <td>Armenia</td>\n",
       "      <td>2015</td>\n",
       "      <td>18.1</td>\n",
       "      <td>12.5</td>\n",
       "      <td>41.7</td>\n",
       "    </tr>\n",
       "    <tr>\n",
       "      <th>8</th>\n",
       "      <td>Azerbaijan</td>\n",
       "      <td>2006</td>\n",
       "      <td>9.0</td>\n",
       "      <td>15.4</td>\n",
       "      <td>52.2</td>\n",
       "    </tr>\n",
       "  </tbody>\n",
       "</table>\n",
       "</div>"
      ],
      "text/plain": [
       "       Country Survey  \\\n",
       "0  Afghanistan   2015   \n",
       "1      Albania   2017   \n",
       "3       Angola   2015   \n",
       "4      Armenia   2015   \n",
       "8   Azerbaijan   2006   \n",
       "\n",
       "   Current use of any modern method of contraception (all women)  \\\n",
       "0                                                            NaN   \n",
       "1                                                            2.8   \n",
       "3                                                           12.5   \n",
       "4                                                           18.1   \n",
       "8                                                            9.0   \n",
       "\n",
       "   Unmet need for family planning  Unmet need for modern methods  \n",
       "0                            24.5                           27.2  \n",
       "1                            15.2                           57.5  \n",
       "3                            38.0                           39.1  \n",
       "4                            12.5                           41.7  \n",
       "8                            15.4                           52.2  "
      ]
     },
     "execution_count": 27,
     "metadata": {},
     "output_type": "execute_result"
    }
   ],
   "source": [
    "dfrecent.sort_values(by='Country').head()"
   ]
  },
  {
   "cell_type": "code",
   "execution_count": 28,
   "metadata": {},
   "outputs": [],
   "source": [
    "dfrecent.to_csv(\"dhsrecent.csv\")"
   ]
  }
 ],
 "metadata": {
  "kernelspec": {
   "display_name": "Python 3",
   "language": "python",
   "name": "python3"
  },
  "language_info": {
   "codemirror_mode": {
    "name": "ipython",
    "version": 3
   },
   "file_extension": ".py",
   "mimetype": "text/x-python",
   "name": "python",
   "nbconvert_exporter": "python",
   "pygments_lexer": "ipython3",
   "version": "3.8.3"
  }
 },
 "nbformat": 4,
 "nbformat_minor": 4
}
